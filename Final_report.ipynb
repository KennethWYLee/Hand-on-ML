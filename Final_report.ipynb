{
 "cells": [
  {
   "cell_type": "code",
   "execution_count": 1,
   "metadata": {},
   "outputs": [],
   "source": [
    "# 財三甲 A105230057 許育琪\n",
    "\n",
    "# A.Regression\n",
    "# poly_features = PolynomialFeatures(degree=3, include_bias=False)\n",
    "# 38648.86407617634\n",
    "\n",
    "# B.Classification\n",
    "# poly_kernel_svm_clf = Pipeline((\n",
    "# (\"scaler\",StandardScaler()),\n",
    "# (\"svm_clf\",SVC(kernel=\"poly\", degree=4, coef0=1,C=5))\n",
    "# ))\n",
    "# 0.8716085271317829  "
   ]
  },
  {
   "cell_type": "code",
   "execution_count": null,
   "metadata": {},
   "outputs": [],
   "source": [
    "# 班級:財金三甲 姓名:吳佳蓮 學號:A105230009    \n",
    "\n",
    "# A. regression\n",
    "# poly_features = PolynomialFeatures(degree=4, include_bias=False)\n",
    "# 34023.20435859005\n",
    "\n",
    "# B. Classifier\n",
    "# from sklearn.svm import SVC\n",
    "# poly_kernel_svm_clf = Pipeline((\n",
    "# (\"scaler\", StandardScaler()),\n",
    "# (\"svm_clf\", SVC(kernel=\"poly\", degree=3, coef0=1, C=4))\n",
    "# ))\n",
    "# poly_kernel_svm_clf.fit(X_train, y_train)\n",
    "# 0.8643410852713178"
   ]
  },
  {
   "cell_type": "code",
   "execution_count": 2,
   "metadata": {},
   "outputs": [],
   "source": [
    "# 班級：財金三甲 學號：A105230023 姓名：曾子榕\n",
    "# A. Regression\n",
    "# poly_features = PolynomialFeatures(degree=5, include_bias=False)\n",
    "# 38170.75070502266\n",
    "\n",
    "# B. Classification\n",
    "# poly_kernel_svm_clf = Pipeline((\n",
    "# (\"scaler\", StandardScaler()),\n",
    "# (\"svm_clf\", SVC(kernel=\"poly\", degree=3, coef0=2, C=6))\n",
    "# ))\n",
    "# 0.8653100775193798"
   ]
  },
  {
   "cell_type": "code",
   "execution_count": null,
   "metadata": {},
   "outputs": [],
   "source": [
    "#  財金三乙 A105230034 錢睿駿\n",
    "\n",
    "#A、regression\n",
    "# poly_features = PolynomialFeatures(degree=3, include_bias=True)\n",
    "# 40524.83552183521\n",
    "\n",
    "#  B、classification\n",
    "#  bag_clf = BaggingClassifier(\n",
    "#   DecisionTreeClassifier(), n_estimators=100,\n",
    "#   bootstrap=True, n_jobs=-1, oob_score=True)\n",
    "#    0.8931686046511628\n"
   ]
  },
  {
   "cell_type": "code",
   "execution_count": 3,
   "metadata": {},
   "outputs": [],
   "source": [
    "#班級：財金三乙 學號：A105230094 姓名：王宗丞\n",
    "\n",
    "#A.regression\n",
    "#poly_features = PolynomialFeatures(degree=5, include_bias=True)\n",
    "#0.383495731063057\n",
    "\n",
    "#  B.classification\n",
    "#bag_clf = BaggingClassifier(\n",
    "#  DecisionTreeClassifier(), n_estimators=121,\n",
    "#  bootstrap=True, n_jobs=-1, oob_score=True)\n",
    "#0.8953488372093024"
   ]
  },
  {
   "cell_type": "code",
   "execution_count": 4,
   "metadata": {},
   "outputs": [],
   "source": [
    "#班級:財金三甲 學號:A105230033 姓名:邱文威\n",
    "#A. Regression\n",
    "#from sklearn.ensemble import GradientBoostingRegressor\n",
    "#gbrt=GradientBoostingRegressor(max_depth=4,n_estimators=5,learning_rate=1)\n",
    "#gbrt.fit(X_train,y_train)\n",
    "#42233.11401145663\n",
    "\n",
    "#B.   classification\n",
    "#bag_clf=BaggingClassifier(\n",
    "    #DecisionTreeClassifier(),n_estimators=900,\n",
    "    #bootstrap=True,n_jobs=-10,oob_score=True)\n",
    "#bag_clf.fit(X_train,y_train)\n",
    "#0.8948643410852714"
   ]
  },
  {
   "cell_type": "code",
   "execution_count": null,
   "metadata": {},
   "outputs": [],
   "source": [
    "# 班級: 財金三甲 姓名: 呂姍俞 學號: A105230207\n",
    "\n",
    "# A.regression\n",
    "# from sklearn.tree import DecisionTreeRegressor\n",
    "# DecisionTreeRegressor()\n",
    "# 39168.72710691969\n",
    "\n",
    "# B.Classification\n",
    "# voting_clf = VotingClassifier(\n",
    "#   estimators = [('lr', log_clf), ('rf', rnd_clf), ('svc', svm_clf)],\n",
    "#   voting='hard',\n",
    "#   n_jobs = 2)\n",
    "# 0.9953972868217055"
   ]
  },
  {
   "cell_type": "code",
   "execution_count": null,
   "metadata": {},
   "outputs": [],
   "source": [
    "# 班級：財金三甲 學號：A105230017 姓名：李玟蓁   \n",
    "# A.regression\n",
    "# from sklearn.tree import DecisionTreeRegressor\n",
    "# tree_reg = DecisionTreeRegressor(max_depth = 12.1)\n",
    "# 39077.03069304997\n",
    "\n",
    "# B.Classification\n",
    "# rnd_clf = RandomForestClassifier(\n",
    "#    n_estimators=650, max_leaf_nodes=250, n_jobs= 3)\n",
    "#0.9166666666666666\n",
    "\n",
    "# 網址:https://github.com/MinchenLi/minchenli-HW/blob/master/minchenli%20HW.ipynb"
   ]
  },
  {
   "cell_type": "code",
   "execution_count": null,
   "metadata": {},
   "outputs": [],
   "source": [
    "#班級:財金三甲 學號:A105230021 姓名:林承緯\n",
    "#A Regression-model\n",
    "#Hyperparameter\n",
    "#poly_features = PolynomialFeatures(degree=4, include_bias=True)\n",
    "#43177.857522491264\n",
    "\n",
    "\n",
    "#B classification-bag_clf\n",
    "#bag_clf = BaggingClassifier(\n",
    "    #DecisionTreeClassifier(), n_estimators=400,\n",
    "    #bootstrap=True, n_jobs=-8, oob_score=True)\n",
    "#0.8929263565891473"
   ]
  },
  {
   "cell_type": "code",
   "execution_count": null,
   "metadata": {},
   "outputs": [],
   "source": [
    "# 班級：財金三甲 學號：A105230273 姓名：楊鈞皓\n",
    "\n",
    "# A. Regression\n",
    "\n",
    "# from sklearn.ensemble import GradientBoostingRegressor\n",
    "\n",
    "#gbrt=GradientBoostingRegressor(max_depth=6,n_estimators=20,learning_rate=0.1)\n",
    "\n",
    "# 43321.04901024171\n",
    "\n",
    "# B. Classification \n",
    "\n",
    "#from sklearn.ensemble import RandomForestClassifier\n",
    "\n",
    "#rnd_clf=RandomForestClassifier(n_estimators=1000,max_leaf_nodes=500,n_jobs=-1)\n",
    "\n",
    "# 0.8873546511627907"
   ]
  },
  {
   "cell_type": "code",
   "execution_count": null,
   "metadata": {},
   "outputs": [],
   "source": [
    "# 班級：財金三甲 學號：A105230019 姓名：王家怡 \n",
    "\n",
    "# A. Regression\n",
    "\n",
    "# from sklearn.tree import DecisionTreeRegressor\n",
    "#tree_reg = DecisionTreeRegressor(max_leaf_nodes=1200)\n",
    "\n",
    "# 39101.23700148593\n",
    "\n",
    "# B. Classification \n",
    "\n",
    "# from sklearn.ensemble import RandomForestClassifier\n",
    "\n",
    "# rnd_clf = RandomForestClassifier(n_estimators=500,max_leaf_nodes=1500, n_jobs= 2)\n",
    "\n",
    "# 0.9903100775193798\n"
   ]
  },
  {
   "cell_type": "code",
   "execution_count": null,
   "metadata": {},
   "outputs": [],
   "source": [
    "#班級:財金三甲 姓名:段依瑩 學號:A105230007\n",
    "\n",
    "# A.regression\n",
    "\n",
    "# from sklearn.tree import DecisionTreeRegressor\n",
    "\n",
    "# tree_reg = DecisionTreeRegressor(max_depth=14)\n",
    "\n",
    "# 16300.396771126196\n",
    "\n",
    " \n",
    "\n",
    "# B.Classification\n",
    "\n",
    "# from sklearn.ensemble import RandomForestClassifier\n",
    "\n",
    "# rnd_clf = RandomForestClassifier(n_estimators=1000, max_leaf_nodes=6000, n_jobs=1)\n",
    "\n",
    "# 0.8975290697674418"
   ]
  },
  {
   "cell_type": "code",
   "execution_count": null,
   "metadata": {},
   "outputs": [],
   "source": []
  },
  {
   "cell_type": "code",
   "execution_count": null,
   "metadata": {},
   "outputs": [],
   "source": []
  }
 ],
 "metadata": {
  "kernelspec": {
   "display_name": "Python 3",
   "language": "python",
   "name": "python3"
  },
  "language_info": {
   "codemirror_mode": {
    "name": "ipython",
    "version": 3
   },
   "file_extension": ".py",
   "mimetype": "text/x-python",
   "name": "python",
   "nbconvert_exporter": "python",
   "pygments_lexer": "ipython3",
   "version": "3.6.8"
  }
 },
 "nbformat": 4,
 "nbformat_minor": 2
}
